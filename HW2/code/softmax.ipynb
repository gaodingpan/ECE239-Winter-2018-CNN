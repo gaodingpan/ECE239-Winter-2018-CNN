{
 "cells": [
  {
   "cell_type": "markdown",
   "metadata": {},
   "source": [
    "## This is the softmax workbook for ECE 239AS Assignment #2\n",
    "\n",
    "Please follow the notebook linearly to implement a softmax classifier.\n",
    "\n",
    "Please print out the workbook entirely when completed.\n",
    "\n",
    "We thank Serena Yeung & Justin Johnson for permission to use code written for the CS 231n class (cs231n.stanford.edu).  These are the functions in the cs231n folders and code in the jupyer notebook to preprocess and show the images.  The classifiers used are based off of code prepared for CS 231n as well.\n",
    "\n",
    "The goal of this workbook is to give you experience with training a softmax classifier."
   ]
  },
  {
   "cell_type": "code",
   "execution_count": 1,
   "metadata": {
    "collapsed": true
   },
   "outputs": [],
   "source": [
    "import random\n",
    "import numpy as np\n",
    "from cs231n.data_utils import load_CIFAR10\n",
    "import matplotlib.pyplot as plt\n",
    "\n",
    "%matplotlib inline\n",
    "%load_ext autoreload\n",
    "%autoreload 2"
   ]
  },
  {
   "cell_type": "code",
   "execution_count": 2,
   "metadata": {
    "scrolled": true
   },
   "outputs": [
    {
     "name": "stdout",
     "output_type": "stream",
     "text": [
      "Train data shape:  (49000, 3073)\n",
      "Train labels shape:  (49000,)\n",
      "Validation data shape:  (1000, 3073)\n",
      "Validation labels shape:  (1000,)\n",
      "Test data shape:  (1000, 3073)\n",
      "Test labels shape:  (1000,)\n",
      "dev data shape:  (500, 3073)\n",
      "dev labels shape:  (500,)\n"
     ]
    }
   ],
   "source": [
    "def get_CIFAR10_data(num_training=49000, num_validation=1000, num_test=1000, num_dev=500):\n",
    "    \"\"\"\n",
    "    Load the CIFAR-10 dataset from disk and perform preprocessing to prepare\n",
    "    it for the linear classifier. These are the same steps as we used for the\n",
    "    SVM, but condensed to a single function.  \n",
    "    \"\"\"\n",
    "    # Load the raw CIFAR-10 data\n",
    "    cifar10_dir = 'cifar-10-batches-py'\n",
    "    X_train, y_train, X_test, y_test = load_CIFAR10(cifar10_dir)\n",
    "    \n",
    "    # subsample the data\n",
    "    mask = list(range(num_training, num_training + num_validation))\n",
    "    X_val = X_train[mask]\n",
    "    y_val = y_train[mask]\n",
    "    mask = list(range(num_training))\n",
    "    X_train = X_train[mask]\n",
    "    y_train = y_train[mask]\n",
    "    mask = list(range(num_test))\n",
    "    X_test = X_test[mask]\n",
    "    y_test = y_test[mask]\n",
    "    mask = np.random.choice(num_training, num_dev, replace=False)\n",
    "    X_dev = X_train[mask]\n",
    "    y_dev = y_train[mask]\n",
    "    \n",
    "    # Preprocessing: reshape the image data into rows\n",
    "    X_train = np.reshape(X_train, (X_train.shape[0], -1))\n",
    "    X_val = np.reshape(X_val, (X_val.shape[0], -1))\n",
    "    X_test = np.reshape(X_test, (X_test.shape[0], -1))\n",
    "    X_dev = np.reshape(X_dev, (X_dev.shape[0], -1))\n",
    "    \n",
    "    # Normalize the data: subtract the mean image\n",
    "    mean_image = np.mean(X_train, axis = 0)\n",
    "    X_train -= mean_image\n",
    "    X_val -= mean_image\n",
    "    X_test -= mean_image\n",
    "    X_dev -= mean_image\n",
    "    \n",
    "    # add bias dimension and transform into columns\n",
    "    X_train = np.hstack([X_train, np.ones((X_train.shape[0], 1))])\n",
    "    X_val = np.hstack([X_val, np.ones((X_val.shape[0], 1))])\n",
    "    X_test = np.hstack([X_test, np.ones((X_test.shape[0], 1))])\n",
    "    X_dev = np.hstack([X_dev, np.ones((X_dev.shape[0], 1))])\n",
    "    \n",
    "    return X_train, y_train, X_val, y_val, X_test, y_test, X_dev, y_dev\n",
    "\n",
    "\n",
    "# Invoke the above function to get our data.\n",
    "X_train, y_train, X_val, y_val, X_test, y_test, X_dev, y_dev = get_CIFAR10_data()\n",
    "print('Train data shape: ', X_train.shape)\n",
    "print('Train labels shape: ', y_train.shape)\n",
    "print('Validation data shape: ', X_val.shape)\n",
    "print('Validation labels shape: ', y_val.shape)\n",
    "print('Test data shape: ', X_test.shape)\n",
    "print('Test labels shape: ', y_test.shape)\n",
    "print('dev data shape: ', X_dev.shape)\n",
    "print('dev labels shape: ', y_dev.shape)"
   ]
  },
  {
   "cell_type": "markdown",
   "metadata": {},
   "source": [
    "## Training a softmax classifier.\n",
    "\n",
    "The following cells will take you through building a softmax classifier.  You will implement its loss function, then subsequently train it with gradient descent.  Finally, you will choose the learning rate of gradient descent to optimize its classification performance."
   ]
  },
  {
   "cell_type": "code",
   "execution_count": 3,
   "metadata": {
    "collapsed": true
   },
   "outputs": [],
   "source": [
    "from nndl import Softmax"
   ]
  },
  {
   "cell_type": "code",
   "execution_count": 4,
   "metadata": {
    "collapsed": true
   },
   "outputs": [],
   "source": [
    "# Declare an instance of the Softmax class.  \n",
    "# Weights are initialized to a random value.\n",
    "# Note, to keep people's first solutions consistent, we are going to use a random seed.\n",
    "\n",
    "np.random.seed(1)\n",
    "\n",
    "num_classes = len(np.unique(y_train))\n",
    "num_features = X_train.shape[1]\n",
    "\n",
    "softmax = Softmax(dims=[num_classes, num_features])"
   ]
  },
  {
   "cell_type": "markdown",
   "metadata": {},
   "source": [
    "#### Softmax loss"
   ]
  },
  {
   "cell_type": "code",
   "execution_count": 5,
   "metadata": {
    "collapsed": true
   },
   "outputs": [],
   "source": [
    "## Implement the loss function of the softmax using a for loop over\n",
    "#  the number of examples\n",
    "\n",
    "loss = softmax.loss(X_train, y_train)"
   ]
  },
  {
   "cell_type": "code",
   "execution_count": 6,
   "metadata": {},
   "outputs": [
    {
     "name": "stdout",
     "output_type": "stream",
     "text": [
      "2.3277607028\n"
     ]
    }
   ],
   "source": [
    "print(loss)"
   ]
  },
  {
   "cell_type": "markdown",
   "metadata": {},
   "source": [
    "## Question: \n",
    "\n",
    "You'll notice the loss returned by the softmax is about 2.3 (if implemented correctly).  Why does this value make sense?"
   ]
  },
  {
   "cell_type": "markdown",
   "metadata": {},
   "source": [
    "## Answer:\n",
    "\n",
    "Because softmax's default Weight is a randomly created uniform matrix. And there are totally 10 classes. -log(1/10) ~= 2.3"
   ]
  },
  {
   "cell_type": "markdown",
   "metadata": {},
   "source": [
    "#### Softmax gradient"
   ]
  },
  {
   "cell_type": "code",
   "execution_count": 7,
   "metadata": {
    "scrolled": false
   },
   "outputs": [
    {
     "name": "stdout",
     "output_type": "stream",
     "text": [
      "numerical: -0.792286 analytic: -0.792286, relative error: 1.012837e-09\n",
      "numerical: 0.501289 analytic: 0.501289, relative error: 1.143449e-08\n",
      "numerical: 1.417490 analytic: 1.417490, relative error: 1.610517e-08\n",
      "numerical: 0.642382 analytic: 0.642382, relative error: 1.559327e-08\n",
      "numerical: -1.346351 analytic: -1.346351, relative error: 2.639645e-08\n",
      "numerical: -0.104750 analytic: -0.104750, relative error: 4.741315e-07\n",
      "numerical: 0.032587 analytic: 0.032587, relative error: 1.594855e-06\n",
      "numerical: -1.117919 analytic: -1.117919, relative error: 7.232505e-09\n",
      "numerical: 0.944276 analytic: 0.944276, relative error: 2.686347e-08\n",
      "numerical: -1.508446 analytic: -1.508446, relative error: 3.348112e-08\n"
     ]
    }
   ],
   "source": [
    "## Calculate the gradient of the softmax loss in the Softmax class.\n",
    "# For convenience, we'll write one function that computes the loss\n",
    "#   and gradient together, softmax.loss_and_grad(X, y)\n",
    "# You may copy and paste your loss code from softmax.loss() here, and then\n",
    "#   use the appropriate intermediate values to calculate the gradient.\n",
    "\n",
    "loss, grad = softmax.loss_and_grad(X_dev,y_dev)\n",
    "\n",
    "# Compare your gradient to a gradient check we wrote. \n",
    "# You should see relative gradient errors on the order of 1e-07 or less if you implemented the gradient correctly.\n",
    "softmax.grad_check_sparse(X_dev, y_dev, grad)"
   ]
  },
  {
   "cell_type": "markdown",
   "metadata": {},
   "source": [
    "## A vectorized version of Softmax\n",
    "\n",
    "To speed things up, we will vectorize the loss and gradient calculations.  This will be helpful for stochastic gradient descent."
   ]
  },
  {
   "cell_type": "code",
   "execution_count": 8,
   "metadata": {
    "collapsed": true
   },
   "outputs": [],
   "source": [
    "import time"
   ]
  },
  {
   "cell_type": "code",
   "execution_count": 9,
   "metadata": {},
   "outputs": [
    {
     "name": "stdout",
     "output_type": "stream",
     "text": [
      "Normal loss / grad_norm: 2.3333386880709996 / 321.5351729073248 computed in 0.0731666088104248s\n",
      "Vectorized loss / grad: 2.3333386880709974 / 321.53517290732475 computed in 0.004011392593383789s\n",
      "difference in loss / grad: 2.220446049250313e-15 /2.277450283989491e-13 \n"
     ]
    }
   ],
   "source": [
    "## Implement softmax.fast_loss_and_grad which calculates the loss and gradient\n",
    "#    WITHOUT using any for loops.  \n",
    "\n",
    "# Standard loss and gradient\n",
    "tic = time.time()\n",
    "loss, grad = softmax.loss_and_grad(X_dev, y_dev)\n",
    "toc = time.time()\n",
    "print('Normal loss / grad_norm: {} / {} computed in {}s'.format(loss, np.linalg.norm(grad, 'fro'), toc - tic))\n",
    "\n",
    "tic = time.time()\n",
    "loss_vectorized, grad_vectorized = softmax.fast_loss_and_grad(X_dev, y_dev)\n",
    "toc = time.time()\n",
    "print('Vectorized loss / grad: {} / {} computed in {}s'.format(loss_vectorized, np.linalg.norm(grad_vectorized, 'fro'), toc - tic))\n",
    "\n",
    "# The losses should match but your vectorized implementation should be much faster.\n",
    "print('difference in loss / grad: {} /{} '.format(loss - loss_vectorized, np.linalg.norm(grad - grad_vectorized)))\n",
    "\n",
    "# You should notice a speedup with the same output."
   ]
  },
  {
   "cell_type": "markdown",
   "metadata": {},
   "source": [
    "## Stochastic gradient descent\n",
    "\n",
    "We now implement stochastic gradient descent.  This uses the same principles of gradient descent we discussed in class, however, it calculates the gradient by only using examples from a subset of the training set (so each gradient calculation is faster)."
   ]
  },
  {
   "cell_type": "markdown",
   "metadata": {},
   "source": [
    "## Question:\n",
    "\n",
    "How should the softmax gradient descent training step differ from the svm training step, if at all?"
   ]
  },
  {
   "cell_type": "markdown",
   "metadata": {},
   "source": [
    "## Answer:\n",
    "\n",
    "No, they are approximately the same"
   ]
  },
  {
   "cell_type": "code",
   "execution_count": 10,
   "metadata": {
    "scrolled": false
   },
   "outputs": [
    {
     "name": "stdout",
     "output_type": "stream",
     "text": [
      "That took 5.3579630851745605s\n"
     ]
    },
    {
     "data": {
      "image/png": "[encoded data removed]",
      "text/plain": [
       "<matplotlib.figure.Figure at 0x1bc6cb58550>"
      ]
     },
     "metadata": {},
     "output_type": "display_data"
    }
   ],
   "source": [
    "# Implement softmax.train() by filling in the code to extract a batch of data\n",
    "# and perform the gradient step.\n",
    "import time\n",
    "\n",
    "\n",
    "tic = time.time()\n",
    "loss_hist = softmax.train(X_train, y_train, learning_rate=1e-7, num_iters=1500, verbose=True)\n",
    "toc = time.time()\n",
    "print('That took {}s'.format(toc - tic))\n",
    "\n",
    "plt.plot(loss_hist)\n",
    "plt.xlabel('Iteration number')\n",
    "plt.ylabel('Loss value')\n",
    "plt.show()"
   ]
  },
  {
   "cell_type": "markdown",
   "metadata": {},
   "source": [
    "### Evaluate the performance of the trained softmax classifier on the validation data."
   ]
  },
  {
   "cell_type": "code",
   "execution_count": 11,
   "metadata": {},
   "outputs": [
    {
     "name": "stdout",
     "output_type": "stream",
     "text": [
      "training accuracy: 0.3811428571428571\n",
      "validation accuracy: 0.398\n"
     ]
    }
   ],
   "source": [
    "## Implement softmax.predict() and use it to compute the training and testing error.\n",
    "\n",
    "y_train_pred = softmax.predict(X_train)\n",
    "print('training accuracy: {}'.format(np.mean(np.equal(y_train,y_train_pred), )))\n",
    "y_val_pred = softmax.predict(X_val)\n",
    "print('validation accuracy: {}'.format(np.mean(np.equal(y_val, y_val_pred)), ))"
   ]
  },
  {
   "cell_type": "markdown",
   "metadata": {},
   "source": [
    "## Optimize the softmax classifier\n",
    "\n",
    "You may copy and paste your optimization code from the SVM here."
   ]
  },
  {
   "cell_type": "code",
   "execution_count": 12,
   "metadata": {},
   "outputs": [
    {
     "data": {
      "text/plain": [
       "2.2204460492503131e-16"
      ]
     },
     "execution_count": 12,
     "metadata": {},
     "output_type": "execute_result"
    }
   ],
   "source": [
    "np.finfo(float).eps"
   ]
  },
  {
   "cell_type": "code",
   "execution_count": 14,
   "metadata": {
    "scrolled": false
   },
   "outputs": [
    {
     "name": "stdout",
     "output_type": "stream",
     "text": [
      "0.314 3e-05\n"
     ]
    }
   ],
   "source": [
    "# ================================================================ #\n",
    "# YOUR CODE HERE:\n",
    "#   Train the Softmax classifier with different learning rates and \n",
    "#     evaluate on the validation data.\n",
    "#   Report:\n",
    "#     - The best learning rate of the ones you tested.  \n",
    "#     - The best validation accuracy corresponding to the best validation error.\n",
    "#\n",
    "#   Select the SVM that achieved the best validation error and report\n",
    "#     its error rate on the test set.\n",
    "# ================================================================ #\n",
    "learning_rates = [3e-5, 6e-5, 9e-5, 2e-4, 5e-4, 8e-4, 11e-4, 14e-4, 17e-4, 2e-3]\n",
    "val_accuracy = []\n",
    "for lr in learning_rates:\n",
    "    loss_hist = softmax.train(X_train, y_train, lr, num_iters=1500, verbose=True)\n",
    "    y_train_pred = softmax.predict(X_train)\n",
    "    y_val_pred = softmax.predict(X_val)\n",
    "    training_accuracy = np.mean(np.equal(y_train,y_train_pred))\n",
    "    val_accuracy.append(np.mean(np.equal(y_val, y_val_pred)))\n",
    "\n",
    "(val_max, index) = max((v, i) for i, v in enumerate(val_accuracy))\n",
    "print(val_max, learning_rates[index])\n",
    "# ================================================================ #\n",
    "# END YOUR CODE HERE\n",
    "# ================================================================ #\n"
   ]
  },
  {
   "cell_type": "code",
   "execution_count": null,
   "metadata": {
    "collapsed": true
   },
   "outputs": [],
   "source": []
  }
 ],
 "metadata": {
  "kernelspec": {
   "display_name": "Python 3",
   "language": "python",
   "name": "python3"
  },
  "language_info": {
   "codemirror_mode": {
    "name": "ipython",
    "version": 3
   },
   "file_extension": ".py",
   "mimetype": "text/x-python",
   "name": "python",
   "nbconvert_exporter": "python",
   "pygments_lexer": "ipython3",
   "version": "3.6.1"
  }
 },
 "nbformat": 4,
 "nbformat_minor": 2
}
