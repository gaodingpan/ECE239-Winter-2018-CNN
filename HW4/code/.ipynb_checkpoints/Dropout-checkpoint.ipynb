{
 "cells": [
  {
   "cell_type": "markdown",
   "metadata": {},
   "source": [
    "# Dropout\n",
    "\n",
    "In this notebook, you will implement dropout.  Then we will ask you to train a network with batchnorm and dropout, and acheive over 60% accuracy on CIFAR-10.\n",
    "\n",
    "CS231n has built a solid API for building these modular frameworks and training them, and we will use their very well implemented framework as opposed to \"reinventing the wheel.\"  This includes using their Solver, various utility functions, and their layer structure.  This also includes nndl.fc_net, nndl.layers, and nndl.layer_utils.  As in prior assignments, we thank Serena Yeung & Justin Johnson for permission to use code written for the CS 231n class (cs231n.stanford.edu).  "
   ]
  },
  {
   "cell_type": "code",
   "execution_count": 1,
   "metadata": {
    "collapsed": true
   },
   "outputs": [],
   "source": [
    "## Import and setups\n",
    "\n",
    "import time\n",
    "import numpy as np\n",
    "import matplotlib.pyplot as plt\n",
    "from nndl.fc_net import *\n",
    "from nndl.layers import *\n",
    "from cs231n.data_utils import get_CIFAR10_data\n",
    "from cs231n.gradient_check import eval_numerical_gradient, eval_numerical_gradient_array\n",
    "from cs231n.solver import Solver\n",
    "\n",
    "%matplotlib inline\n",
    "plt.rcParams['figure.figsize'] = (10.0, 8.0) # set default size of plots\n",
    "plt.rcParams['image.interpolation'] = 'nearest'\n",
    "plt.rcParams['image.cmap'] = 'gray'\n",
    "\n",
    "# for auto-reloading external modules\n",
    "# see http://stackoverflow.com/questions/1907993/autoreload-of-modules-in-ipython\n",
    "%load_ext autoreload\n",
    "%autoreload 2\n",
    "\n",
    "def rel_error(x, y):\n",
    "  \"\"\" returns relative error \"\"\"\n",
    "  return np.max(np.abs(x - y) / (np.maximum(1e-8, np.abs(x) + np.abs(y))))"
   ]
  },
  {
   "cell_type": "code",
   "execution_count": 2,
   "metadata": {},
   "outputs": [
    {
     "name": "stdout",
     "output_type": "stream",
     "text": [
      "X_train: (49000, 3, 32, 32) \n",
      "y_train: (49000,) \n",
      "X_val: (1000, 3, 32, 32) \n",
      "y_val: (1000,) \n",
      "X_test: (1000, 3, 32, 32) \n",
      "y_test: (1000,) \n"
     ]
    }
   ],
   "source": [
    "# Load the (preprocessed) CIFAR10 data.\n",
    "\n",
    "data = get_CIFAR10_data()\n",
    "for k in data.keys():\n",
    "  print('{}: {} '.format(k, data[k].shape))"
   ]
  },
  {
   "cell_type": "markdown",
   "metadata": {},
   "source": [
    "## Dropout forward pass\n",
    "\n",
    "Implement the training and test time dropout forward pass, `dropout_forward`, in `nndl/layers.py`. After that, test your implementation by running the following cell."
   ]
  },
  {
   "cell_type": "code",
   "execution_count": 3,
   "metadata": {},
   "outputs": [
    {
     "name": "stdout",
     "output_type": "stream",
     "text": [
      "Running tests with p =  0.3\n",
      "Mean of input:  10.0007145001\n",
      "Mean of train-time output:  10.0070636699\n",
      "Mean of test-time output:  10.0007145001\n",
      "Fraction of train-time output set to zero:  0.299524\n",
      "Fraction of test-time output set to zero:  0.0\n",
      "Running tests with p =  0.6\n",
      "Mean of input:  10.0007145001\n",
      "Mean of train-time output:  10.0102862794\n",
      "Mean of test-time output:  10.0007145001\n",
      "Fraction of train-time output set to zero:  0.599656\n",
      "Fraction of test-time output set to zero:  0.0\n",
      "Running tests with p =  0.75\n",
      "Mean of input:  10.0007145001\n",
      "Mean of train-time output:  10.0205998907\n",
      "Mean of test-time output:  10.0007145001\n",
      "Fraction of train-time output set to zero:  0.74946\n",
      "Fraction of test-time output set to zero:  0.0\n"
     ]
    }
   ],
   "source": [
    "x = np.random.randn(500, 500) + 10\n",
    "\n",
    "for p in [0.3, 0.6, 0.75]:\n",
    "  out, _ = dropout_forward(x, {'mode': 'train', 'p': p})\n",
    "  out_test, _ = dropout_forward(x, {'mode': 'test', 'p': p})\n",
    "\n",
    "  print('Running tests with p = ', p)\n",
    "  print('Mean of input: ', x.mean())\n",
    "  print('Mean of train-time output: ', out.mean())\n",
    "  print('Mean of test-time output: ', out_test.mean())\n",
    "  print('Fraction of train-time output set to zero: ', (out == 0).mean())\n",
    "  print('Fraction of test-time output set to zero: ', (out_test == 0).mean())"
   ]
  },
  {
   "cell_type": "markdown",
   "metadata": {},
   "source": [
    "## Dropout backward pass\n",
    "\n",
    "Implement the backward pass, `dropout_backward`, in `nndl/layers.py`.  After that, test your gradients by running the following cell:"
   ]
  },
  {
   "cell_type": "code",
   "execution_count": 4,
   "metadata": {},
   "outputs": [
    {
     "name": "stdout",
     "output_type": "stream",
     "text": [
      "dx relative error:  1.89290644054e-11\n"
     ]
    }
   ],
   "source": [
    "x = np.random.randn(10, 10) + 10\n",
    "dout = np.random.randn(*x.shape)\n",
    "\n",
    "dropout_param = {'mode': 'train', 'p': 0.8, 'seed': 123}\n",
    "out, cache = dropout_forward(x, dropout_param)\n",
    "dx = dropout_backward(dout, cache)\n",
    "dx_num = eval_numerical_gradient_array(lambda xx: dropout_forward(xx, dropout_param)[0], x, dout)\n",
    "\n",
    "print('dx relative error: ', rel_error(dx, dx_num))"
   ]
  },
  {
   "cell_type": "markdown",
   "metadata": {},
   "source": [
    "## Implement a fully connected neural network with dropout layers\n",
    "\n",
    "Modify the `FullyConnectedNet()` class in `nndl/fc_net.py` to incorporate dropout.  A dropout layer should be incorporated after every ReLU layer.  Concretely, there shouldn't be a dropout at the output layer since there is no ReLU at the output layer. You will need to modify the class in the following areas:\n",
    "\n",
    "(1) In the forward pass, you will need to incorporate a dropout layer after every relu layer.\n",
    "\n",
    "(2) In the backward pass, you will need to incorporate a dropout backward pass layer.\n",
    "\n",
    "Check your implementation by running the following code.  Our W1 gradient relative error is on the order of 1e-6 (the largest of all the relative errors)."
   ]
  },
  {
   "cell_type": "code",
   "execution_count": 5,
   "metadata": {},
   "outputs": [
    {
     "name": "stdout",
     "output_type": "stream",
     "text": [
      "Running check with dropout =  0\n",
      "Initial loss:  2.3051948274\n",
      "W1 relative error: 2.5272575351926774e-07\n",
      "W2 relative error: 1.5034484923408755e-05\n",
      "W3 relative error: 2.753446897744538e-07\n",
      "b1 relative error: 2.93695746140462e-06\n",
      "b2 relative error: 5.0513392951881574e-08\n",
      "b3 relative error: 1.1740467838205477e-10\n",
      "\n",
      "\n",
      "Running check with dropout =  0.25\n",
      "Initial loss:  2.30520775465\n",
      "W1 relative error: 2.6138469495521315e-07\n",
      "W2 relative error: 5.022056560933038e-07\n",
      "W3 relative error: 4.456316094199078e-08\n",
      "b1 relative error: 7.397117752103726e-08\n",
      "b2 relative error: 7.151679404650099e-10\n",
      "b3 relative error: 1.003974732116764e-10\n",
      "\n",
      "\n",
      "Running check with dropout =  0.5\n",
      "Initial loss:  2.30356675866\n",
      "W1 relative error: 1.1401257489261862e-06\n",
      "W2 relative error: 1.8476697977245173e-07\n",
      "W3 relative error: 6.596619266012576e-09\n",
      "b1 relative error: 7.716395914021063e-08\n",
      "b2 relative error: 1.1975910493629166e-09\n",
      "b3 relative error: 1.1577905505376818e-10\n",
      "\n",
      "\n"
     ]
    }
   ],
   "source": [
    "N, D, H1, H2, C = 2, 15, 20, 30, 10\n",
    "X = np.random.randn(N, D)\n",
    "y = np.random.randint(C, size=(N,))\n",
    "\n",
    "for dropout in [0, 0.25, 0.5]:\n",
    "  print('Running check with dropout = ', dropout)\n",
    "  model = FullyConnectedNet([H1, H2], input_dim=D, num_classes=C,\n",
    "                            weight_scale=5e-2, dtype=np.float64,\n",
    "                            dropout=dropout, seed=123)\n",
    "\n",
    "  loss, grads = model.loss(X, y)\n",
    "  print('Initial loss: ', loss)\n",
    "\n",
    "  for name in sorted(grads):\n",
    "    f = lambda _: model.loss(X, y)[0]\n",
    "    grad_num = eval_numerical_gradient(f, model.params[name], verbose=False, h=1e-5)\n",
    "    print('{} relative error: {}'.format(name, rel_error(grad_num, grads[name])))\n",
    "  print('\\n')"
   ]
  },
  {
   "cell_type": "markdown",
   "metadata": {},
   "source": [
    "## Dropout as a regularizer\n",
    "\n",
    "In class, we claimed that dropout acts as a regularizer by effectively bagging.  To check this, we will train two small networks, one with dropout and one without dropout.  "
   ]
  },
  {
   "cell_type": "code",
   "execution_count": 8,
   "metadata": {},
   "outputs": [
    {
     "name": "stdout",
     "output_type": "stream",
     "text": [
      "(Iteration 1 / 125) loss: 2.304140\n",
      "(Epoch 0 / 25) train acc: 0.160000; val_acc: 0.132000\n",
      "(Epoch 1 / 25) train acc: 0.230000; val_acc: 0.185000\n",
      "(Epoch 2 / 25) train acc: 0.282000; val_acc: 0.234000\n",
      "(Epoch 3 / 25) train acc: 0.322000; val_acc: 0.242000\n",
      "(Epoch 4 / 25) train acc: 0.350000; val_acc: 0.271000\n",
      "(Epoch 5 / 25) train acc: 0.388000; val_acc: 0.286000\n",
      "(Epoch 6 / 25) train acc: 0.416000; val_acc: 0.296000\n",
      "(Epoch 7 / 25) train acc: 0.496000; val_acc: 0.310000\n",
      "(Epoch 8 / 25) train acc: 0.568000; val_acc: 0.322000\n",
      "(Epoch 9 / 25) train acc: 0.574000; val_acc: 0.314000\n",
      "(Epoch 10 / 25) train acc: 0.642000; val_acc: 0.324000\n",
      "(Epoch 11 / 25) train acc: 0.672000; val_acc: 0.321000\n",
      "(Epoch 12 / 25) train acc: 0.700000; val_acc: 0.311000\n",
      "(Epoch 13 / 25) train acc: 0.738000; val_acc: 0.315000\n",
      "(Epoch 14 / 25) train acc: 0.798000; val_acc: 0.305000\n",
      "(Epoch 15 / 25) train acc: 0.788000; val_acc: 0.315000\n",
      "(Epoch 16 / 25) train acc: 0.832000; val_acc: 0.304000\n",
      "(Epoch 17 / 25) train acc: 0.866000; val_acc: 0.308000\n",
      "(Epoch 18 / 25) train acc: 0.910000; val_acc: 0.319000\n",
      "(Epoch 19 / 25) train acc: 0.926000; val_acc: 0.317000\n",
      "(Epoch 20 / 25) train acc: 0.948000; val_acc: 0.312000\n",
      "(Iteration 101 / 125) loss: 0.241725\n",
      "(Epoch 21 / 25) train acc: 0.948000; val_acc: 0.322000\n",
      "(Epoch 22 / 25) train acc: 0.960000; val_acc: 0.308000\n",
      "(Epoch 23 / 25) train acc: 0.968000; val_acc: 0.315000\n",
      "(Epoch 24 / 25) train acc: 0.976000; val_acc: 0.316000\n",
      "(Epoch 25 / 25) train acc: 0.984000; val_acc: 0.310000\n",
      "(Iteration 1 / 125) loss: 2.302215\n",
      "(Epoch 0 / 25) train acc: 0.112000; val_acc: 0.103000\n",
      "(Epoch 1 / 25) train acc: 0.148000; val_acc: 0.141000\n",
      "(Epoch 2 / 25) train acc: 0.222000; val_acc: 0.196000\n",
      "(Epoch 3 / 25) train acc: 0.254000; val_acc: 0.217000\n",
      "(Epoch 4 / 25) train acc: 0.262000; val_acc: 0.210000\n",
      "(Epoch 5 / 25) train acc: 0.258000; val_acc: 0.212000\n",
      "(Epoch 6 / 25) train acc: 0.254000; val_acc: 0.239000\n",
      "(Epoch 7 / 25) train acc: 0.292000; val_acc: 0.261000\n",
      "(Epoch 8 / 25) train acc: 0.306000; val_acc: 0.262000\n",
      "(Epoch 9 / 25) train acc: 0.302000; val_acc: 0.257000\n",
      "(Epoch 10 / 25) train acc: 0.332000; val_acc: 0.280000\n",
      "(Epoch 11 / 25) train acc: 0.344000; val_acc: 0.277000\n",
      "(Epoch 12 / 25) train acc: 0.350000; val_acc: 0.286000\n",
      "(Epoch 13 / 25) train acc: 0.342000; val_acc: 0.277000\n",
      "(Epoch 14 / 25) train acc: 0.348000; val_acc: 0.283000\n",
      "(Epoch 15 / 25) train acc: 0.372000; val_acc: 0.289000\n",
      "(Epoch 16 / 25) train acc: 0.398000; val_acc: 0.284000\n",
      "(Epoch 17 / 25) train acc: 0.412000; val_acc: 0.288000\n",
      "(Epoch 18 / 25) train acc: 0.384000; val_acc: 0.274000\n",
      "(Epoch 19 / 25) train acc: 0.392000; val_acc: 0.273000\n",
      "(Epoch 20 / 25) train acc: 0.404000; val_acc: 0.272000\n",
      "(Iteration 101 / 125) loss: 1.697778\n",
      "(Epoch 21 / 25) train acc: 0.418000; val_acc: 0.290000\n",
      "(Epoch 22 / 25) train acc: 0.412000; val_acc: 0.287000\n",
      "(Epoch 23 / 25) train acc: 0.426000; val_acc: 0.278000\n",
      "(Epoch 24 / 25) train acc: 0.422000; val_acc: 0.295000\n",
      "(Epoch 25 / 25) train acc: 0.454000; val_acc: 0.294000\n"
     ]
    }
   ],
   "source": [
    "# Train two identical nets, one with dropout and one without\n",
    "\n",
    "num_train = 500\n",
    "small_data = {\n",
    "  'X_train': data['X_train'][:num_train],\n",
    "  'y_train': data['y_train'][:num_train],\n",
    "  'X_val': data['X_val'],\n",
    "  'y_val': data['y_val'],\n",
    "}\n",
    "\n",
    "solvers = {}\n",
    "dropout_choices = [0, 0.6]\n",
    "for dropout in dropout_choices:\n",
    "  model = FullyConnectedNet([100, 100, 100], dropout=dropout)\n",
    "\n",
    "  solver = Solver(model, small_data,\n",
    "                  num_epochs=25, batch_size=100,\n",
    "                  update_rule='adam',\n",
    "                  optim_config={\n",
    "                    'learning_rate': 5e-4,\n",
    "                  },\n",
    "                  verbose=True, print_every=100)\n",
    "  solver.train()\n",
    "  solvers[dropout] = solver"
   ]
  },
  {
   "cell_type": "code",
   "execution_count": 9,
   "metadata": {},
   "outputs": [
    {
     "data": {
      "image/png": "[encoded data removed]",
      "text/plain": [
       "<matplotlib.figure.Figure at 0x1e8dd6bbdd8>"
      ]
     },
     "metadata": {},
     "output_type": "display_data"
    }
   ],
   "source": [
    "# Plot train and validation accuracies of the two models\n",
    "\n",
    "train_accs = []\n",
    "val_accs = []\n",
    "for dropout in dropout_choices:\n",
    "  solver = solvers[dropout]\n",
    "  train_accs.append(solver.train_acc_history[-1])\n",
    "  val_accs.append(solver.val_acc_history[-1])\n",
    "\n",
    "plt.subplot(3, 1, 1)\n",
    "for dropout in dropout_choices:\n",
    "  plt.plot(solvers[dropout].train_acc_history, 'o', label='%.2f dropout' % dropout)\n",
    "plt.title('Train accuracy')\n",
    "plt.xlabel('Epoch')\n",
    "plt.ylabel('Accuracy')\n",
    "plt.legend(ncol=2, loc='lower right')\n",
    "  \n",
    "plt.subplot(3, 1, 2)\n",
    "for dropout in dropout_choices:\n",
    "  plt.plot(solvers[dropout].val_acc_history, 'o', label='%.2f dropout' % dropout)\n",
    "plt.title('Val accuracy')\n",
    "plt.xlabel('Epoch')\n",
    "plt.ylabel('Accuracy')\n",
    "plt.legend(ncol=2, loc='lower right')\n",
    "\n",
    "plt.gcf().set_size_inches(15, 15)\n",
    "plt.show()"
   ]
  },
  {
   "cell_type": "markdown",
   "metadata": {},
   "source": [
    "## Question\n",
    "\n",
    "Based off the results of this experiment, is dropout performing regularization?  Explain your answer."
   ]
  },
  {
   "cell_type": "markdown",
   "metadata": {},
   "source": [
    "## Answer:\n",
    "Yes, the dropout is performing as a regularizer since we can see that, in trainning accurace, the model without dropout performs relatively better, but in validation, model with dropout mostly performs about the same as models without dropouts meanning that model with dropout is prevented from overfitting the trainning set."
   ]
  },
  {
   "cell_type": "markdown",
   "metadata": {},
   "source": [
    "## Final part of the assignment\n",
    "\n",
    "Get over 60% validation accuracy on CIFAR-10 by using the layers you have implemented.  You will be graded according to the following equation:\n",
    "\n",
    "min(floor((X - 32%)) / 28%, 1) \n",
    "where if you get 60% or higher validation accuracy, you get full points."
   ]
  },
  {
   "cell_type": "code",
   "execution_count": 15,
   "metadata": {
    "scrolled": false
   },
   "outputs": [
    {
     "name": "stdout",
     "output_type": "stream",
     "text": [
      "(Iteration 1 / 50) loss: 2.445729\n",
      "(Epoch 0 / 25) train acc: 0.233000; val_acc: 0.220000\n",
      "(Epoch 1 / 25) train acc: 0.297000; val_acc: 0.248000\n",
      "(Epoch 2 / 25) train acc: 0.335000; val_acc: 0.288000\n",
      "(Epoch 3 / 25) train acc: 0.329000; val_acc: 0.301000\n",
      "(Epoch 4 / 25) train acc: 0.381000; val_acc: 0.304000\n",
      "(Epoch 5 / 25) train acc: 0.368000; val_acc: 0.320000\n",
      "(Epoch 6 / 25) train acc: 0.394000; val_acc: 0.327000\n",
      "(Epoch 7 / 25) train acc: 0.392000; val_acc: 0.334000\n",
      "(Epoch 8 / 25) train acc: 0.388000; val_acc: 0.342000\n",
      "(Epoch 9 / 25) train acc: 0.463000; val_acc: 0.356000\n",
      "(Epoch 10 / 25) train acc: 0.439000; val_acc: 0.367000\n",
      "(Epoch 11 / 25) train acc: 0.434000; val_acc: 0.370000\n",
      "(Epoch 12 / 25) train acc: 0.452000; val_acc: 0.374000\n",
      "(Epoch 13 / 25) train acc: 0.483000; val_acc: 0.379000\n",
      "(Epoch 14 / 25) train acc: 0.485000; val_acc: 0.389000\n",
      "(Epoch 15 / 25) train acc: 0.490000; val_acc: 0.389000\n",
      "(Epoch 16 / 25) train acc: 0.514000; val_acc: 0.392000\n",
      "(Epoch 17 / 25) train acc: 0.525000; val_acc: 0.390000\n",
      "(Epoch 18 / 25) train acc: 0.529000; val_acc: 0.392000\n",
      "(Epoch 19 / 25) train acc: 0.562000; val_acc: 0.401000\n",
      "(Epoch 20 / 25) train acc: 0.587000; val_acc: 0.389000\n",
      "(Epoch 21 / 25) train acc: 0.606000; val_acc: 0.394000\n",
      "(Epoch 22 / 25) train acc: 0.588000; val_acc: 0.397000\n",
      "(Epoch 23 / 25) train acc: 0.603000; val_acc: 0.405000\n",
      "(Epoch 24 / 25) train acc: 0.627000; val_acc: 0.407000\n",
      "(Epoch 25 / 25) train acc: 0.622000; val_acc: 0.411000\n"
     ]
    }
   ],
   "source": [
    "# ================================================================ #\n",
    "# YOUR CODE HERE:\n",
    "#   Implement a FC-net that achieves at least 60% validation accuracy\n",
    "#   on CIFAR-10.\n",
    "# ================================================================ #\n",
    "\n",
    "num_train = 2000\n",
    "small_data = {\n",
    "  'X_train': data['X_train'][:num_train],\n",
    "  'y_train': data['y_train'][:num_train],\n",
    "  'X_val': data['X_val'],\n",
    "  'y_val': data['y_val'],\n",
    "}\n",
    "hidden_dims = [500, 500, 500]\n",
    "model = FullyConnectedNet(hidden_dims, weight_scale = 3e-02, \n",
    "                          dropout=0.5, use_batchnorm=True)\n",
    "\n",
    "solver = Solver(model, small_data,\n",
    "              num_epochs=25, batch_size=1000,\n",
    "              update_rule='adam',\n",
    "              optim_config={\n",
    "                'learning_rate': 1e-3,\n",
    "              },\n",
    "              verbose=True, print_every=1000)\n",
    "solver.train()\n",
    "\n",
    "# ================================================================ #\n",
    "# END YOUR CODE HERE\n",
    "# ================================================================ #\n"
   ]
  },
  {
   "cell_type": "code",
   "execution_count": null,
   "metadata": {
    "collapsed": true
   },
   "outputs": [],
   "source": []
  }
 ],
 "metadata": {
  "kernelspec": {
   "display_name": "Python 3",
   "language": "python",
   "name": "python3"
  },
  "language_info": {
   "codemirror_mode": {
    "name": "ipython",
    "version": 3
   },
   "file_extension": ".py",
   "mimetype": "text/x-python",
   "name": "python",
   "nbconvert_exporter": "python",
   "pygments_lexer": "ipython3",
   "version": "3.6.3"
  }
 },
 "nbformat": 4,
 "nbformat_minor": 2
}
