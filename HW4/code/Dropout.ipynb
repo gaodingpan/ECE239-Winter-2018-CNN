{
 "cells": [
  {
   "cell_type": "markdown",
   "metadata": {},
   "source": [
    "# Dropout\n",
    "\n",
    "In this notebook, you will implement dropout.  Then we will ask you to train a network with batchnorm and dropout, and acheive over 60% accuracy on CIFAR-10.\n",
    "\n",
    "CS231n has built a solid API for building these modular frameworks and training them, and we will use their very well implemented framework as opposed to \"reinventing the wheel.\"  This includes using their Solver, various utility functions, and their layer structure.  This also includes nndl.fc_net, nndl.layers, and nndl.layer_utils.  As in prior assignments, we thank Serena Yeung & Justin Johnson for permission to use code written for the CS 231n class (cs231n.stanford.edu).  "
   ]
  },
  {
   "cell_type": "code",
   "execution_count": 1,
   "metadata": {
    "collapsed": true
   },
   "outputs": [],
   "source": [
    "## Import and setups\n",
    "\n",
    "import time\n",
    "import numpy as np\n",
    "import matplotlib.pyplot as plt\n",
    "from nndl.fc_net import *\n",
    "from nndl.layers import *\n",
    "from cs231n.data_utils import get_CIFAR10_data\n",
    "from cs231n.gradient_check import eval_numerical_gradient, eval_numerical_gradient_array\n",
    "from cs231n.solver import Solver\n",
    "\n",
    "%matplotlib inline\n",
    "plt.rcParams['figure.figsize'] = (10.0, 8.0) # set default size of plots\n",
    "plt.rcParams['image.interpolation'] = 'nearest'\n",
    "plt.rcParams['image.cmap'] = 'gray'\n",
    "\n",
    "# for auto-reloading external modules\n",
    "# see http://stackoverflow.com/questions/1907993/autoreload-of-modules-in-ipython\n",
    "%load_ext autoreload\n",
    "%autoreload 2\n",
    "\n",
    "def rel_error(x, y):\n",
    "  \"\"\" returns relative error \"\"\"\n",
    "  return np.max(np.abs(x - y) / (np.maximum(1e-8, np.abs(x) + np.abs(y))))"
   ]
  },
  {
   "cell_type": "code",
   "execution_count": 2,
   "metadata": {},
   "outputs": [
    {
     "name": "stdout",
     "output_type": "stream",
     "text": [
      "X_train: (49000, 3, 32, 32) \n",
      "y_train: (49000,) \n",
      "X_val: (1000, 3, 32, 32) \n",
      "y_val: (1000,) \n",
      "X_test: (1000, 3, 32, 32) \n",
      "y_test: (1000,) \n"
     ]
    }
   ],
   "source": [
    "# Load the (preprocessed) CIFAR10 data.\n",
    "\n",
    "data = get_CIFAR10_data()\n",
    "for k in data.keys():\n",
    "  print('{}: {} '.format(k, data[k].shape))"
   ]
  },
  {
   "cell_type": "markdown",
   "metadata": {},
   "source": [
    "## Dropout forward pass\n",
    "\n",
    "Implement the training and test time dropout forward pass, `dropout_forward`, in `nndl/layers.py`. After that, test your implementation by running the following cell."
   ]
  },
  {
   "cell_type": "code",
   "execution_count": 3,
   "metadata": {},
   "outputs": [
    {
     "name": "stdout",
     "output_type": "stream",
     "text": [
      "Running tests with p =  0.3\n",
      "Mean of input:  10.001321028\n",
      "Mean of train-time output:  9.98578009092\n",
      "Mean of test-time output:  10.001321028\n",
      "Fraction of train-time output set to zero:  0.301148\n",
      "Fraction of test-time output set to zero:  0.0\n",
      "Running tests with p =  0.6\n",
      "Mean of input:  10.001321028\n",
      "Mean of train-time output:  10.023318311\n",
      "Mean of test-time output:  10.001321028\n",
      "Fraction of train-time output set to zero:  0.599172\n",
      "Fraction of test-time output set to zero:  0.0\n",
      "Running tests with p =  0.75\n",
      "Mean of input:  10.001321028\n",
      "Mean of train-time output:  9.97991911274\n",
      "Mean of test-time output:  10.001321028\n",
      "Fraction of train-time output set to zero:  0.75052\n",
      "Fraction of test-time output set to zero:  0.0\n"
     ]
    }
   ],
   "source": [
    "x = np.random.randn(500, 500) + 10\n",
    "\n",
    "for p in [0.3, 0.6, 0.75]:\n",
    "  out, _ = dropout_forward(x, {'mode': 'train', 'p': p})\n",
    "  out_test, _ = dropout_forward(x, {'mode': 'test', 'p': p})\n",
    "\n",
    "  print('Running tests with p = ', p)\n",
    "  print('Mean of input: ', x.mean())\n",
    "  print('Mean of train-time output: ', out.mean())\n",
    "  print('Mean of test-time output: ', out_test.mean())\n",
    "  print('Fraction of train-time output set to zero: ', (out == 0).mean())\n",
    "  print('Fraction of test-time output set to zero: ', (out_test == 0).mean())"
   ]
  },
  {
   "cell_type": "markdown",
   "metadata": {},
   "source": [
    "## Dropout backward pass\n",
    "\n",
    "Implement the backward pass, `dropout_backward`, in `nndl/layers.py`.  After that, test your gradients by running the following cell:"
   ]
  },
  {
   "cell_type": "code",
   "execution_count": 4,
   "metadata": {},
   "outputs": [
    {
     "name": "stdout",
     "output_type": "stream",
     "text": [
      "dx relative error:  1.89290825629e-11\n"
     ]
    }
   ],
   "source": [
    "x = np.random.randn(10, 10) + 10\n",
    "dout = np.random.randn(*x.shape)\n",
    "\n",
    "dropout_param = {'mode': 'train', 'p': 0.8, 'seed': 123}\n",
    "out, cache = dropout_forward(x, dropout_param)\n",
    "dx = dropout_backward(dout, cache)\n",
    "dx_num = eval_numerical_gradient_array(lambda xx: dropout_forward(xx, dropout_param)[0], x, dout)\n",
    "\n",
    "print('dx relative error: ', rel_error(dx, dx_num))"
   ]
  },
  {
   "cell_type": "markdown",
   "metadata": {},
   "source": [
    "## Implement a fully connected neural network with dropout layers\n",
    "\n",
    "Modify the `FullyConnectedNet()` class in `nndl/fc_net.py` to incorporate dropout.  A dropout layer should be incorporated after every ReLU layer.  Concretely, there shouldn't be a dropout at the output layer since there is no ReLU at the output layer. You will need to modify the class in the following areas:\n",
    "\n",
    "(1) In the forward pass, you will need to incorporate a dropout layer after every relu layer.\n",
    "\n",
    "(2) In the backward pass, you will need to incorporate a dropout backward pass layer.\n",
    "\n",
    "Check your implementation by running the following code.  Our W1 gradient relative error is on the order of 1e-6 (the largest of all the relative errors)."
   ]
  },
  {
   "cell_type": "code",
   "execution_count": 5,
   "metadata": {},
   "outputs": [
    {
     "name": "stdout",
     "output_type": "stream",
     "text": [
      "Running check with dropout =  0\n",
      "Initial loss:  2.3051948274\n",
      "W1 relative error: 2.5272575351926774e-07\n",
      "W2 relative error: 1.5034484923408755e-05\n",
      "W3 relative error: 2.753446897744538e-07\n",
      "b1 relative error: 2.93695746140462e-06\n",
      "b2 relative error: 5.0513392951881574e-08\n",
      "b3 relative error: 1.1740467838205477e-10\n",
      "\n",
      "\n",
      "Running check with dropout =  0.25\n",
      "Initial loss:  2.30520775465\n",
      "W1 relative error: 2.6138469495521315e-07\n",
      "W2 relative error: 5.022056560933038e-07\n",
      "W3 relative error: 4.456316094199078e-08\n",
      "b1 relative error: 7.397117752103726e-08\n",
      "b2 relative error: 7.151679404650099e-10\n",
      "b3 relative error: 1.003974732116764e-10\n",
      "\n",
      "\n",
      "Running check with dropout =  0.5\n",
      "Initial loss:  2.30356675866\n",
      "W1 relative error: 1.1401257489261862e-06\n",
      "W2 relative error: 1.8476697977245173e-07\n",
      "W3 relative error: 6.596619266012576e-09\n",
      "b1 relative error: 7.716395914021063e-08\n",
      "b2 relative error: 1.1975910493629166e-09\n",
      "b3 relative error: 1.1577905505376818e-10\n",
      "\n",
      "\n"
     ]
    }
   ],
   "source": [
    "N, D, H1, H2, C = 2, 15, 20, 30, 10\n",
    "X = np.random.randn(N, D)\n",
    "y = np.random.randint(C, size=(N,))\n",
    "\n",
    "for dropout in [0, 0.25, 0.5]:\n",
    "  print('Running check with dropout = ', dropout)\n",
    "  model = FullyConnectedNet([H1, H2], input_dim=D, num_classes=C,\n",
    "                            weight_scale=5e-2, dtype=np.float64,\n",
    "                            dropout=dropout, seed=123)\n",
    "\n",
    "  loss, grads = model.loss(X, y)\n",
    "  print('Initial loss: ', loss)\n",
    "\n",
    "  for name in sorted(grads):\n",
    "    f = lambda _: model.loss(X, y)[0]\n",
    "    grad_num = eval_numerical_gradient(f, model.params[name], verbose=False, h=1e-5)\n",
    "    print('{} relative error: {}'.format(name, rel_error(grad_num, grads[name])))\n",
    "  print('\\n')"
   ]
  },
  {
   "cell_type": "markdown",
   "metadata": {},
   "source": [
    "## Dropout as a regularizer\n",
    "\n",
    "In class, we claimed that dropout acts as a regularizer by effectively bagging.  To check this, we will train two small networks, one with dropout and one without dropout.  "
   ]
  },
  {
   "cell_type": "code",
   "execution_count": 25,
   "metadata": {},
   "outputs": [
    {
     "name": "stdout",
     "output_type": "stream",
     "text": [
      "(Iteration 1 / 125) loss: 2.302729\n",
      "(Epoch 0 / 25) train acc: 0.184000; val_acc: 0.148000\n",
      "(Epoch 1 / 25) train acc: 0.276000; val_acc: 0.198000\n",
      "(Epoch 2 / 25) train acc: 0.276000; val_acc: 0.199000\n",
      "(Epoch 3 / 25) train acc: 0.300000; val_acc: 0.261000\n",
      "(Epoch 4 / 25) train acc: 0.368000; val_acc: 0.300000\n",
      "(Epoch 5 / 25) train acc: 0.394000; val_acc: 0.300000\n",
      "(Epoch 6 / 25) train acc: 0.456000; val_acc: 0.307000\n",
      "(Epoch 7 / 25) train acc: 0.512000; val_acc: 0.311000\n",
      "(Epoch 8 / 25) train acc: 0.524000; val_acc: 0.309000\n",
      "(Epoch 9 / 25) train acc: 0.532000; val_acc: 0.306000\n",
      "(Epoch 10 / 25) train acc: 0.590000; val_acc: 0.326000\n",
      "(Epoch 11 / 25) train acc: 0.654000; val_acc: 0.319000\n",
      "(Epoch 12 / 25) train acc: 0.680000; val_acc: 0.326000\n",
      "(Epoch 13 / 25) train acc: 0.740000; val_acc: 0.300000\n",
      "(Epoch 14 / 25) train acc: 0.784000; val_acc: 0.317000\n",
      "(Epoch 15 / 25) train acc: 0.854000; val_acc: 0.322000\n",
      "(Epoch 16 / 25) train acc: 0.876000; val_acc: 0.302000\n",
      "(Epoch 17 / 25) train acc: 0.900000; val_acc: 0.308000\n",
      "(Epoch 18 / 25) train acc: 0.906000; val_acc: 0.319000\n",
      "(Epoch 19 / 25) train acc: 0.920000; val_acc: 0.288000\n",
      "(Epoch 20 / 25) train acc: 0.948000; val_acc: 0.313000\n",
      "(Iteration 101 / 125) loss: 0.207769\n",
      "(Epoch 21 / 25) train acc: 0.950000; val_acc: 0.309000\n",
      "(Epoch 22 / 25) train acc: 0.974000; val_acc: 0.292000\n",
      "(Epoch 23 / 25) train acc: 0.984000; val_acc: 0.298000\n",
      "(Epoch 24 / 25) train acc: 0.976000; val_acc: 0.315000\n",
      "(Epoch 25 / 25) train acc: 0.992000; val_acc: 0.306000\n",
      "(Iteration 1 / 125) loss: 2.291277\n",
      "(Epoch 0 / 25) train acc: 0.142000; val_acc: 0.123000\n",
      "(Epoch 1 / 25) train acc: 0.190000; val_acc: 0.176000\n",
      "(Epoch 2 / 25) train acc: 0.218000; val_acc: 0.178000\n",
      "(Epoch 3 / 25) train acc: 0.230000; val_acc: 0.177000\n",
      "(Epoch 4 / 25) train acc: 0.226000; val_acc: 0.187000\n",
      "(Epoch 5 / 25) train acc: 0.244000; val_acc: 0.207000\n",
      "(Epoch 6 / 25) train acc: 0.284000; val_acc: 0.244000\n",
      "(Epoch 7 / 25) train acc: 0.288000; val_acc: 0.251000\n",
      "(Epoch 8 / 25) train acc: 0.280000; val_acc: 0.230000\n",
      "(Epoch 9 / 25) train acc: 0.282000; val_acc: 0.228000\n",
      "(Epoch 10 / 25) train acc: 0.310000; val_acc: 0.251000\n",
      "(Epoch 11 / 25) train acc: 0.342000; val_acc: 0.275000\n",
      "(Epoch 12 / 25) train acc: 0.352000; val_acc: 0.292000\n",
      "(Epoch 13 / 25) train acc: 0.344000; val_acc: 0.286000\n",
      "(Epoch 14 / 25) train acc: 0.354000; val_acc: 0.290000\n",
      "(Epoch 15 / 25) train acc: 0.384000; val_acc: 0.302000\n",
      "(Epoch 16 / 25) train acc: 0.378000; val_acc: 0.276000\n",
      "(Epoch 17 / 25) train acc: 0.372000; val_acc: 0.285000\n",
      "(Epoch 18 / 25) train acc: 0.392000; val_acc: 0.289000\n",
      "(Epoch 19 / 25) train acc: 0.386000; val_acc: 0.282000\n",
      "(Epoch 20 / 25) train acc: 0.390000; val_acc: 0.279000\n",
      "(Iteration 101 / 125) loss: 1.747492\n",
      "(Epoch 21 / 25) train acc: 0.444000; val_acc: 0.298000\n",
      "(Epoch 22 / 25) train acc: 0.478000; val_acc: 0.307000\n",
      "(Epoch 23 / 25) train acc: 0.500000; val_acc: 0.318000\n",
      "(Epoch 24 / 25) train acc: 0.514000; val_acc: 0.310000\n",
      "(Epoch 25 / 25) train acc: 0.506000; val_acc: 0.304000\n"
     ]
    }
   ],
   "source": [
    "# Train two identical nets, one with dropout and one without\n",
    "\n",
    "num_train = 500\n",
    "small_data = {\n",
    "  'X_train': data['X_train'][:num_train],\n",
    "  'y_train': data['y_train'][:num_train],\n",
    "  'X_val': data['X_val'],\n",
    "  'y_val': data['y_val'],\n",
    "}\n",
    "\n",
    "solvers = {}\n",
    "dropout_choices = [0, 0.6]\n",
    "for dropout in dropout_choices:\n",
    "  model = FullyConnectedNet([100, 100, 100], dropout=dropout)\n",
    "\n",
    "  solver = Solver(model, small_data,\n",
    "                  num_epochs=25, batch_size=100,\n",
    "                  update_rule='adam',\n",
    "                  optim_config={\n",
    "                    'learning_rate': 5e-4,\n",
    "                  },\n",
    "                  verbose=True, print_every=100)\n",
    "  solver.train()\n",
    "  solvers[dropout] = solver"
   ]
  },
  {
   "cell_type": "code",
   "execution_count": 26,
   "metadata": {},
   "outputs": [
    {
     "data": {
      "image/png": "[encoded data removed]",
      "text/plain": [
       "<matplotlib.figure.Figure at 0x1fd1b20f898>"
      ]
     },
     "metadata": {},
     "output_type": "display_data"
    }
   ],
   "source": [
    "# Plot train and validation accuracies of the two models\n",
    "\n",
    "train_accs = []\n",
    "val_accs = []\n",
    "for dropout in dropout_choices:\n",
    "  solver = solvers[dropout]\n",
    "  train_accs.append(solver.train_acc_history[-1])\n",
    "  val_accs.append(solver.val_acc_history[-1])\n",
    "\n",
    "plt.subplot(3, 1, 1)\n",
    "for dropout in dropout_choices:\n",
    "  plt.plot(solvers[dropout].train_acc_history, 'o', label='%.2f dropout' % dropout)\n",
    "plt.title('Train accuracy')\n",
    "plt.xlabel('Epoch')\n",
    "plt.ylabel('Accuracy')\n",
    "plt.legend(ncol=2, loc='lower right')\n",
    "  \n",
    "plt.subplot(3, 1, 2)\n",
    "for dropout in dropout_choices:\n",
    "  plt.plot(solvers[dropout].val_acc_history, 'o', label='%.2f dropout' % dropout)\n",
    "plt.title('Val accuracy')\n",
    "plt.xlabel('Epoch')\n",
    "plt.ylabel('Accuracy')\n",
    "plt.legend(ncol=2, loc='lower right')\n",
    "\n",
    "plt.gcf().set_size_inches(15, 15)\n",
    "plt.show()"
   ]
  },
  {
   "cell_type": "markdown",
   "metadata": {},
   "source": [
    "## Question\n",
    "\n",
    "Based off the results of this experiment, is dropout performing regularization?  Explain your answer."
   ]
  },
  {
   "cell_type": "markdown",
   "metadata": {},
   "source": [
    "## Answer:\n",
    "Yes, the dropout is performing as a regularizer since we can see that, in trainning accurace, the model without dropout performs relatively better, but in validation, model with dropout mostly performs about the same as models without dropouts meanning that model with dropout is prevented from overfitting the trainning set."
   ]
  },
  {
   "cell_type": "markdown",
   "metadata": {},
   "source": [
    "## Final part of the assignment\n",
    "\n",
    "Get over 60% validation accuracy on CIFAR-10 by using the layers you have implemented.  You will be graded according to the following equation:\n",
    "\n",
    "min(floor((X - 32%)) / 28%, 1) \n",
    "where if you get 60% or higher validation accuracy, you get full points."
   ]
  },
  {
   "cell_type": "code",
   "execution_count": 29,
   "metadata": {
    "scrolled": false
   },
   "outputs": [
    {
     "name": "stdout",
     "output_type": "stream",
     "text": [
      "(Iteration 1 / 1175) loss: 2.304476\n",
      "(Epoch 0 / 25) train acc: 0.134000; val_acc: 0.136000\n",
      "(Epoch 1 / 25) train acc: 0.403000; val_acc: 0.415000\n",
      "(Epoch 2 / 25) train acc: 0.465000; val_acc: 0.477000\n",
      "(Epoch 3 / 25) train acc: 0.515000; val_acc: 0.502000\n",
      "(Epoch 4 / 25) train acc: 0.545000; val_acc: 0.520000\n",
      "(Epoch 5 / 25) train acc: 0.568000; val_acc: 0.527000\n",
      "(Iteration 257 / 1175) loss: 1.240041\n",
      "(Epoch 6 / 25) train acc: 0.584000; val_acc: 0.545000\n",
      "(Epoch 7 / 25) train acc: 0.601000; val_acc: 0.551000\n",
      "(Epoch 8 / 25) train acc: 0.626000; val_acc: 0.569000\n",
      "(Epoch 9 / 25) train acc: 0.650000; val_acc: 0.559000\n",
      "(Epoch 10 / 25) train acc: 0.642000; val_acc: 0.564000\n",
      "(Iteration 513 / 1175) loss: 1.061161\n",
      "(Epoch 11 / 25) train acc: 0.688000; val_acc: 0.572000\n",
      "(Epoch 12 / 25) train acc: 0.685000; val_acc: 0.562000\n",
      "(Epoch 13 / 25) train acc: 0.726000; val_acc: 0.585000\n",
      "(Epoch 14 / 25) train acc: 0.692000; val_acc: 0.590000\n",
      "(Epoch 15 / 25) train acc: 0.729000; val_acc: 0.576000\n",
      "(Epoch 16 / 25) train acc: 0.726000; val_acc: 0.584000\n",
      "(Iteration 769 / 1175) loss: 0.910902\n",
      "(Epoch 17 / 25) train acc: 0.742000; val_acc: 0.579000\n",
      "(Epoch 18 / 25) train acc: 0.746000; val_acc: 0.589000\n",
      "(Epoch 19 / 25) train acc: 0.762000; val_acc: 0.573000\n",
      "(Epoch 20 / 25) train acc: 0.770000; val_acc: 0.581000\n",
      "(Epoch 21 / 25) train acc: 0.809000; val_acc: 0.582000\n",
      "(Iteration 1025 / 1175) loss: 0.761797\n",
      "(Epoch 22 / 25) train acc: 0.791000; val_acc: 0.578000\n",
      "(Epoch 23 / 25) train acc: 0.803000; val_acc: 0.587000\n",
      "(Epoch 24 / 25) train acc: 0.809000; val_acc: 0.576000\n",
      "(Epoch 25 / 25) train acc: 0.793000; val_acc: 0.581000\n",
      "Validation set accuracy: 0.6\n",
      "Test set accuracy: 0.605\n"
     ]
    }
   ],
   "source": [
    "# ================================================================ #\n",
    "# YOUR CODE HERE:\n",
    "#   Implement a FC-net that achieves at least 60% validation accuracy\n",
    "#   on CIFAR-10.\n",
    "# ================================================================ #\n",
    "\n",
    "hidden_dims = [512, 256, 128, 64]\n",
    "lr_decay = 0.9\n",
    "learning_rate = 8e-3\n",
    "weight_scale = 0.01\n",
    "dropout = 0.2\n",
    "reg = 0.0\n",
    "update_rule = 'adam'\n",
    "\n",
    "model = FullyConnectedNet(hidden_dims = hidden_dims, weight_scale = weight_scale, \n",
    "                          dropout=dropout, use_batchnorm=True, reg=reg)\n",
    "\n",
    "solver = Solver(model, data,\n",
    "              num_epochs=25, batch_size=1024,\n",
    "              update_rule=update_rule,\n",
    "              optim_config={\n",
    "                'learning_rate': learning_rate,\n",
    "              },\n",
    "              lr_decay=lr_decay,\n",
    "              verbose=True, print_every=256)\n",
    "solver.train()\n",
    "\n",
    "#print out the validation accuracy\n",
    "y_test_pred = np.argmax(model.loss(data['X_test']), axis=1)\n",
    "y_val_pred = np.argmax(model.loss(data['X_val']), axis=1)\n",
    "print('Validation set accuracy: {}'.format(np.mean(y_val_pred == data['y_val'])))\n",
    "print('Test set accuracy: {}'.format(np.mean(y_test_pred == data['y_test'])))\n",
    "# ================================================================ #\n",
    "# END YOUR CODE HERE\n",
    "# ================================================================ #\n"
   ]
  },
  {
   "cell_type": "code",
   "execution_count": null,
   "metadata": {
    "collapsed": true
   },
   "outputs": [],
   "source": []
  }
 ],
 "metadata": {
  "kernelspec": {
   "display_name": "Python 3",
   "language": "python",
   "name": "python3"
  },
  "language_info": {
   "codemirror_mode": {
    "name": "ipython",
    "version": 3
   },
   "file_extension": ".py",
   "mimetype": "text/x-python",
   "name": "python",
   "nbconvert_exporter": "python",
   "pygments_lexer": "ipython3",
   "version": "3.6.1"
  }
 },
 "nbformat": 4,
 "nbformat_minor": 2
}
