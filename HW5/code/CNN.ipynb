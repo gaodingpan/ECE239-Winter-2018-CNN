{
 "cells": [
  {
   "cell_type": "markdown",
   "metadata": {},
   "source": [
    "# Convolutional neural networks\n",
    "\n",
    "In this notebook, we'll put together our convolutional layers to implement a 3-layer CNN.  Then, we'll ask you to implement a CNN that can achieve > 65% validation error on CIFAR-10.\n",
    "\n",
    "CS231n has built a solid API for building these modular frameworks and training them, and we will use their very well implemented framework as opposed to \"reinventing the wheel.\"  This includes using their Solver, various utility functions, their layer structure, and their implementation of fast CNN layers.  This also includes nndl.fc_net, nndl.layers, and nndl.layer_utils.  As in prior assignments, we thank Serena Yeung & Justin Johnson for permission to use code written for the CS 231n class (cs231n.stanford.edu).  \n",
    "\n",
    "If you have not completed the Spatial BatchNorm Notebook, please see the following description from that notebook:\n",
    "\n",
    "Please copy and paste your prior implemented code from HW #4 to start this assignment.  If you did not correctly implement the layers in HW #4, you may collaborate with a classmate to use their layer implementations from HW #4.  You may also visit TA or Prof OH to correct your implementation.  \n",
    "\n",
    "You'll want to copy and paste from HW #4:\n",
    "    - layers.py for your FC network layers, as well as batchnorm and dropout.\n",
    "    - layer_utils.py for your combined FC network layers.\n",
    "    - optim.py for your optimizers.\n",
    "\n",
    "Be sure to place these in the `nndl/` directory so they're imported correctly.  Note, as announced in class, we will not be releasing our solutions."
   ]
  },
  {
   "cell_type": "code",
   "execution_count": 1,
   "metadata": {
    "collapsed": true
   },
   "outputs": [],
   "source": [
    "# As usual, a bit of setup\n",
    "\n",
    "import numpy as np\n",
    "import matplotlib.pyplot as plt\n",
    "from nndl.cnn import *\n",
    "from cs231n.data_utils import get_CIFAR10_data\n",
    "from cs231n.gradient_check import eval_numerical_gradient_array, eval_numerical_gradient\n",
    "from nndl.layers import *\n",
    "from nndl.conv_layers import *\n",
    "from cs231n.fast_layers import *\n",
    "from cs231n.solver import Solver\n",
    "\n",
    "%matplotlib inline\n",
    "plt.rcParams['figure.figsize'] = (10.0, 8.0) # set default size of plots\n",
    "plt.rcParams['image.interpolation'] = 'nearest'\n",
    "plt.rcParams['image.cmap'] = 'gray'\n",
    "\n",
    "# for auto-reloading external modules\n",
    "# see http://stackoverflow.com/questions/1907993/autoreload-of-modules-in-ipython\n",
    "%load_ext autoreload\n",
    "%autoreload 2\n",
    "\n",
    "def rel_error(x, y):\n",
    "  \"\"\" returns relative error \"\"\"\n",
    "  return np.max(np.abs(x - y) / (np.maximum(1e-8, np.abs(x) + np.abs(y))))"
   ]
  },
  {
   "cell_type": "code",
   "execution_count": 2,
   "metadata": {},
   "outputs": [
    {
     "name": "stdout",
     "output_type": "stream",
     "text": [
      "X_train: (49000, 3, 32, 32) \n",
      "y_train: (49000,) \n",
      "X_val: (1000, 3, 32, 32) \n",
      "y_val: (1000,) \n",
      "X_test: (1000, 3, 32, 32) \n",
      "y_test: (1000,) \n"
     ]
    }
   ],
   "source": [
    "# Load the (preprocessed) CIFAR10 data.\n",
    "\n",
    "data = get_CIFAR10_data()\n",
    "for k in data.keys():\n",
    "  print('{}: {} '.format(k, data[k].shape))"
   ]
  },
  {
   "cell_type": "markdown",
   "metadata": {},
   "source": [
    "## Three layer CNN\n",
    "\n",
    "In this notebook, you will implement a three layer CNN.  The `ThreeLayerConvNet` class is in `nndl/cnn.py`.  You'll need to modify that code for this section, including the initialization, as well as the calculation of the loss and gradients.  You should be able to use the building blocks you have either earlier coded or that we have provided.  Be sure to use the fast layers.\n",
    "\n",
    "The architecture of this CNN will be:\n",
    "\n",
    "conv - relu - 2x2 max pool - affine - relu - affine - softmax\n",
    "\n",
    "We won't use batchnorm yet.  You've also done enough of these to know how to debug; use the cells below.\n",
    "\n",
    "Note: As we are implementing several layers CNN networks. The gradient error can be expected for the `eval_numerical_gradient()` function. If your `W1 max relative error` and `W2 max relative error` are around or below 0.01, they should be acceptable. Other errors should be less than 1e-5. "
   ]
  },
  {
   "cell_type": "code",
   "execution_count": 5,
   "metadata": {},
   "outputs": [
    {
     "name": "stdout",
     "output_type": "stream",
     "text": [
      "W1 max relative error: 0.00752833085936108\n",
      "W2 max relative error: 0.005543617508518453\n",
      "W3 max relative error: 6.188314469230504e-05\n",
      "b1 max relative error: 1.48308045293717e-05\n",
      "b2 max relative error: 1.3418697466588586e-05\n",
      "b3 max relative error: 7.603576896936201e-10\n"
     ]
    }
   ],
   "source": [
    "num_inputs = 2\n",
    "input_dim = (3, 16, 16)\n",
    "reg = 0.0\n",
    "num_classes = 10\n",
    "X = np.random.randn(num_inputs, *input_dim)\n",
    "y = np.random.randint(num_classes, size=num_inputs)\n",
    "\n",
    "model = ThreeLayerConvNet(num_filters=3, filter_size=3,\n",
    "                          input_dim=input_dim, hidden_dim=7,\n",
    "                          dtype=np.float64)\n",
    "loss, grads = model.loss(X, y)\n",
    "for param_name in sorted(grads):\n",
    "    f = lambda _: model.loss(X, y)[0]\n",
    "    param_grad_num = eval_numerical_gradient(f, model.params[param_name], verbose=False, h=1e-6)\n",
    "    e = rel_error(param_grad_num, grads[param_name])\n",
    "    print('{} max relative error: {}'.format(param_name, rel_error(param_grad_num, grads[param_name])))"
   ]
  },
  {
   "cell_type": "markdown",
   "metadata": {},
   "source": [
    "### Overfit small dataset\n",
    "\n",
    "To check your CNN implementation, let's overfit a small dataset."
   ]
  },
  {
   "cell_type": "code",
   "execution_count": 6,
   "metadata": {},
   "outputs": [
    {
     "name": "stdout",
     "output_type": "stream",
     "text": [
      "(Iteration 1 / 20) loss: 2.332714\n",
      "(Epoch 0 / 10) train acc: 0.210000; val_acc: 0.139000\n",
      "(Iteration 2 / 20) loss: 3.521220\n",
      "(Epoch 1 / 10) train acc: 0.190000; val_acc: 0.082000\n",
      "(Iteration 3 / 20) loss: 2.832130\n",
      "(Iteration 4 / 20) loss: 2.643778\n",
      "(Epoch 2 / 10) train acc: 0.190000; val_acc: 0.126000\n",
      "(Iteration 5 / 20) loss: 2.576029\n",
      "(Iteration 6 / 20) loss: 2.238392\n",
      "(Epoch 3 / 10) train acc: 0.310000; val_acc: 0.140000\n",
      "(Iteration 7 / 20) loss: 2.193496\n",
      "(Iteration 8 / 20) loss: 1.914602\n",
      "(Epoch 4 / 10) train acc: 0.370000; val_acc: 0.151000\n",
      "(Iteration 9 / 20) loss: 1.916959\n",
      "(Iteration 10 / 20) loss: 1.354666\n",
      "(Epoch 5 / 10) train acc: 0.490000; val_acc: 0.151000\n",
      "(Iteration 11 / 20) loss: 1.482238\n",
      "(Iteration 12 / 20) loss: 1.375489\n",
      "(Epoch 6 / 10) train acc: 0.600000; val_acc: 0.188000\n",
      "(Iteration 13 / 20) loss: 1.251029\n",
      "(Iteration 14 / 20) loss: 1.164171\n",
      "(Epoch 7 / 10) train acc: 0.700000; val_acc: 0.189000\n",
      "(Iteration 15 / 20) loss: 1.006351\n",
      "(Iteration 16 / 20) loss: 0.720020\n",
      "(Epoch 8 / 10) train acc: 0.690000; val_acc: 0.183000\n",
      "(Iteration 17 / 20) loss: 0.941501\n",
      "(Iteration 18 / 20) loss: 0.857811\n",
      "(Epoch 9 / 10) train acc: 0.840000; val_acc: 0.191000\n",
      "(Iteration 19 / 20) loss: 0.431482\n",
      "(Iteration 20 / 20) loss: 0.760281\n",
      "(Epoch 10 / 10) train acc: 0.840000; val_acc: 0.184000\n"
     ]
    }
   ],
   "source": [
    "num_train = 100\n",
    "small_data = {\n",
    "  'X_train': data['X_train'][:num_train],\n",
    "  'y_train': data['y_train'][:num_train],\n",
    "  'X_val': data['X_val'],\n",
    "  'y_val': data['y_val'],\n",
    "}\n",
    "\n",
    "model = ThreeLayerConvNet(weight_scale=1e-2)\n",
    "\n",
    "solver = Solver(model, small_data,\n",
    "                num_epochs=10, batch_size=50,\n",
    "                update_rule='adam',\n",
    "                optim_config={\n",
    "                  'learning_rate': 1e-3,\n",
    "                },\n",
    "                verbose=True, print_every=1)\n",
    "solver.train()"
   ]
  },
  {
   "cell_type": "code",
   "execution_count": 7,
   "metadata": {},
   "outputs": [
    {
     "data": {
      "image/png": "[encoded data removed]",
      "text/plain": [
       "<matplotlib.figure.Figure at 0x2c1d95ef860>"
      ]
     },
     "metadata": {},
     "output_type": "display_data"
    }
   ],
   "source": [
    "plt.subplot(2, 1, 1)\n",
    "plt.plot(solver.loss_history, 'o')\n",
    "plt.xlabel('iteration')\n",
    "plt.ylabel('loss')\n",
    "\n",
    "plt.subplot(2, 1, 2)\n",
    "plt.plot(solver.train_acc_history, '-o')\n",
    "plt.plot(solver.val_acc_history, '-o')\n",
    "plt.legend(['train', 'val'], loc='upper left')\n",
    "plt.xlabel('epoch')\n",
    "plt.ylabel('accuracy')\n",
    "plt.show()"
   ]
  },
  {
   "cell_type": "markdown",
   "metadata": {},
   "source": [
    "## Train the network\n",
    "\n",
    "Now we train the 3 layer CNN on CIFAR-10 and assess its accuracy."
   ]
  },
  {
   "cell_type": "code",
   "execution_count": 8,
   "metadata": {
    "scrolled": false
   },
   "outputs": [
    {
     "name": "stdout",
     "output_type": "stream",
     "text": [
      "(Iteration 1 / 980) loss: 2.304563\n",
      "(Epoch 0 / 1) train acc: 0.139000; val_acc: 0.118000\n",
      "(Iteration 21 / 980) loss: 2.544290\n",
      "(Iteration 41 / 980) loss: 1.960992\n",
      "(Iteration 61 / 980) loss: 1.526899\n",
      "(Iteration 81 / 980) loss: 2.063628\n",
      "(Iteration 101 / 980) loss: 1.755709\n",
      "(Iteration 121 / 980) loss: 1.846260\n",
      "(Iteration 141 / 980) loss: 1.975132\n",
      "(Iteration 161 / 980) loss: 1.728036\n",
      "(Iteration 181 / 980) loss: 1.932438\n",
      "(Iteration 201 / 980) loss: 1.662399\n",
      "(Iteration 221 / 980) loss: 1.773072\n",
      "(Iteration 241 / 980) loss: 1.869847\n",
      "(Iteration 261 / 980) loss: 1.596638\n",
      "(Iteration 281 / 980) loss: 1.919463\n",
      "(Iteration 301 / 980) loss: 1.678908\n",
      "(Iteration 321 / 980) loss: 1.689061\n",
      "(Iteration 341 / 980) loss: 1.787142\n",
      "(Iteration 361 / 980) loss: 1.543805\n",
      "(Iteration 381 / 980) loss: 2.053161\n",
      "(Iteration 401 / 980) loss: 1.885644\n",
      "(Iteration 421 / 980) loss: 1.664656\n",
      "(Iteration 441 / 980) loss: 1.714378\n",
      "(Iteration 461 / 980) loss: 1.791659\n",
      "(Iteration 481 / 980) loss: 2.003774\n",
      "(Iteration 501 / 980) loss: 1.566670\n",
      "(Iteration 521 / 980) loss: 1.402898\n",
      "(Iteration 541 / 980) loss: 1.562682\n",
      "(Iteration 561 / 980) loss: 2.105339\n",
      "(Iteration 581 / 980) loss: 1.748434\n",
      "(Iteration 601 / 980) loss: 1.567238\n",
      "(Iteration 621 / 980) loss: 1.563929\n",
      "(Iteration 641 / 980) loss: 1.854068\n",
      "(Iteration 661 / 980) loss: 1.238324\n",
      "(Iteration 681 / 980) loss: 1.393946\n",
      "(Iteration 701 / 980) loss: 1.411985\n",
      "(Iteration 721 / 980) loss: 1.741583\n",
      "(Iteration 741 / 980) loss: 1.586388\n",
      "(Iteration 761 / 980) loss: 1.231256\n",
      "(Iteration 781 / 980) loss: 1.633724\n",
      "(Iteration 801 / 980) loss: 1.705363\n",
      "(Iteration 821 / 980) loss: 1.617686\n",
      "(Iteration 841 / 980) loss: 1.679928\n",
      "(Iteration 861 / 980) loss: 1.238650\n",
      "(Iteration 881 / 980) loss: 1.493807\n",
      "(Iteration 901 / 980) loss: 1.489866\n",
      "(Iteration 921 / 980) loss: 1.149902\n",
      "(Iteration 941 / 980) loss: 1.360330\n",
      "(Iteration 961 / 980) loss: 1.327614\n",
      "(Epoch 1 / 1) train acc: 0.501000; val_acc: 0.482000\n"
     ]
    }
   ],
   "source": [
    "model = ThreeLayerConvNet(weight_scale=0.001, hidden_dim=500, reg=0.001)\n",
    "\n",
    "solver = Solver(model, data,\n",
    "                num_epochs=1, batch_size=50,\n",
    "                update_rule='adam',\n",
    "                optim_config={\n",
    "                  'learning_rate': 1e-3,\n",
    "                },\n",
    "                verbose=True, print_every=20)\n",
    "solver.train()"
   ]
  },
  {
   "cell_type": "markdown",
   "metadata": {},
   "source": [
    "# Get > 65% validation accuracy on CIFAR-10.\n",
    "\n",
    "In the last part of the assignment, we'll now ask you to train a CNN to get better than 65% validation accuracy on CIFAR-10.\n",
    "\n",
    "### Things you should try:\n",
    "- Filter size: Above we used 7x7; but VGGNet and onwards showed stacks of 3x3 filters are good.  \n",
    "- Number of filters: Above we used 32 filters. Do more or fewer do better?\n",
    "- Batch normalization: Try adding spatial batch normalization after convolution layers and vanilla batch normalization aafter affine layers. Do your networks train faster?\n",
    "- Network architecture: Can a deeper CNN do better?  Consider these architectures:\n",
    "    - [conv-relu-pool]xN - conv - relu - [affine]xM - [softmax or SVM]\n",
    "    - [conv-relu-pool]XN - [affine]XM - [softmax or SVM]\n",
    "    - [conv-relu-conv-relu-pool]xN - [affine]xM - [softmax or SVM]\n",
    "\n",
    "### Tips for training\n",
    "For each network architecture that you try, you should tune the learning rate and regularization strength. When doing this there are a couple important things to keep in mind:\n",
    "\n",
    "- If the parameters are working well, you should see improvement within a few hundred iterations\n",
    "- Remember the coarse-to-fine approach for hyperparameter tuning: start by testing a large range of hyperparameters for just a few training iterations to find the combinations of parameters that are working at all.\n",
    "- Once you have found some sets of parameters that seem to work, search more finely around these parameters. You may need to train for more epochs."
   ]
  },
  {
   "cell_type": "code",
   "execution_count": 13,
   "metadata": {
    "scrolled": false
   },
   "outputs": [
    {
     "name": "stdout",
     "output_type": "stream",
     "text": [
      "(Iteration 1 / 950) loss: 2.306677\n",
      "(Epoch 0 / 10) train acc: 0.098000; val_acc: 0.107000\n",
      "(Iteration 20 / 950) loss: 1.802690\n",
      "(Iteration 39 / 950) loss: 1.600862\n",
      "(Iteration 58 / 950) loss: 1.400160\n",
      "(Iteration 77 / 950) loss: 1.371795\n",
      "(Epoch 1 / 10) train acc: 0.547000; val_acc: 0.540000\n",
      "(Iteration 96 / 950) loss: 1.343780\n",
      "(Iteration 115 / 950) loss: 1.313413\n",
      "(Iteration 134 / 950) loss: 1.289671\n",
      "(Iteration 153 / 950) loss: 1.279742\n",
      "(Iteration 172 / 950) loss: 1.152549\n",
      "(Epoch 2 / 10) train acc: 0.620000; val_acc: 0.579000\n",
      "(Iteration 191 / 950) loss: 1.162793\n",
      "(Iteration 210 / 950) loss: 1.123253\n",
      "(Iteration 229 / 950) loss: 1.127514\n",
      "(Iteration 248 / 950) loss: 1.156056\n",
      "(Iteration 267 / 950) loss: 1.076987\n",
      "(Epoch 3 / 10) train acc: 0.675000; val_acc: 0.604000\n",
      "(Iteration 286 / 950) loss: 1.098143\n",
      "(Iteration 305 / 950) loss: 0.975450\n",
      "(Iteration 324 / 950) loss: 1.120077\n",
      "(Iteration 343 / 950) loss: 0.969960\n",
      "(Iteration 362 / 950) loss: 0.916413\n",
      "(Epoch 4 / 10) train acc: 0.734000; val_acc: 0.631000\n",
      "(Iteration 381 / 950) loss: 0.997971\n",
      "(Iteration 400 / 950) loss: 0.932722\n",
      "(Iteration 419 / 950) loss: 0.910426\n",
      "(Iteration 438 / 950) loss: 0.898356\n",
      "(Iteration 457 / 950) loss: 0.883847\n",
      "(Epoch 5 / 10) train acc: 0.738000; val_acc: 0.658000\n",
      "(Iteration 476 / 950) loss: 0.753462\n",
      "(Iteration 495 / 950) loss: 0.834907\n",
      "(Iteration 514 / 950) loss: 0.777537\n",
      "(Iteration 533 / 950) loss: 0.789140\n",
      "(Iteration 552 / 950) loss: 0.770149\n",
      "(Epoch 6 / 10) train acc: 0.757000; val_acc: 0.649000\n",
      "(Iteration 571 / 950) loss: 0.767931\n",
      "(Iteration 590 / 950) loss: 0.767191\n",
      "(Iteration 609 / 950) loss: 0.664580\n",
      "(Iteration 628 / 950) loss: 0.740221\n",
      "(Iteration 647 / 950) loss: 0.695340\n",
      "(Epoch 7 / 10) train acc: 0.799000; val_acc: 0.665000\n",
      "(Iteration 666 / 950) loss: 0.661333\n",
      "(Iteration 685 / 950) loss: 0.568812\n",
      "(Iteration 704 / 950) loss: 0.743638\n",
      "(Iteration 723 / 950) loss: 0.650962\n",
      "(Iteration 742 / 950) loss: 0.675785\n",
      "(Epoch 8 / 10) train acc: 0.843000; val_acc: 0.650000\n",
      "(Iteration 761 / 950) loss: 0.575767\n",
      "(Iteration 780 / 950) loss: 0.590716\n",
      "(Iteration 799 / 950) loss: 0.590448\n",
      "(Iteration 818 / 950) loss: 0.562412\n",
      "(Iteration 837 / 950) loss: 0.566781\n",
      "(Epoch 9 / 10) train acc: 0.873000; val_acc: 0.675000\n",
      "(Iteration 856 / 950) loss: 0.530155\n",
      "(Iteration 875 / 950) loss: 0.560513\n",
      "(Iteration 894 / 950) loss: 0.587096\n",
      "(Iteration 913 / 950) loss: 0.585064\n",
      "(Iteration 932 / 950) loss: 0.584256\n",
      "(Epoch 10 / 10) train acc: 0.875000; val_acc: 0.670000\n",
      "Validation set accuracy: 0.675\n",
      "Test set accuracy: 0.678\n"
     ]
    }
   ],
   "source": [
    "# ================================================================ #\n",
    "# YOUR CODE HERE:\n",
    "#   Implement a CNN to achieve greater than 65% validation accuracy\n",
    "#   on CIFAR-10.\n",
    "# ================================================================ #\n",
    "model = ThreeLayerConvNet(weight_scale = 0.001, \n",
    "                          hidden_dim = 500, \n",
    "                          reg = 0.001, \n",
    "                          num_filters = 64,\n",
    "                          filter_size = 3)\n",
    "\n",
    "solver = Solver(model, data,\n",
    "                num_epochs=10, batch_size=512,\n",
    "                update_rule='adam',\n",
    "                optim_config={\n",
    "                  'learning_rate': 1e-3,\n",
    "                },\n",
    "                lr_decay=0.9,\n",
    "                verbose=True, print_every=19)\n",
    "solver.train()\n",
    "#print out the validation accuracy\n",
    "y_test_pred = np.argmax(model.loss(data['X_test']), axis=1)\n",
    "y_val_pred = np.argmax(model.loss(data['X_val']), axis=1)\n",
    "print('Validation set accuracy: {}'.format(np.mean(y_val_pred == data['y_val'])))\n",
    "print('Test set accuracy: {}'.format(np.mean(y_test_pred == data['y_test'])))\n",
    "# ================================================================ #\n",
    "# END YOUR CODE HERE\n",
    "# ================================================================ #\n"
   ]
  },
  {
   "cell_type": "code",
   "execution_count": null,
   "metadata": {
    "collapsed": true
   },
   "outputs": [],
   "source": []
  }
 ],
 "metadata": {
  "kernelspec": {
   "display_name": "Python 3",
   "language": "python",
   "name": "python3"
  },
  "language_info": {
   "codemirror_mode": {
    "name": "ipython",
    "version": 3
   },
   "file_extension": ".py",
   "mimetype": "text/x-python",
   "name": "python",
   "nbconvert_exporter": "python",
   "pygments_lexer": "ipython3",
   "version": "3.6.1"
  }
 },
 "nbformat": 4,
 "nbformat_minor": 2
}
